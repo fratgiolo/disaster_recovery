{
 "cells": [
  {
   "cell_type": "markdown",
   "metadata": {},
   "source": [
    "# ML Pipeline Preparation\n",
    "Follow the instructions below to help you create your ML pipeline.\n",
    "### 1. Import libraries and load data from database.\n",
    "- Import Python libraries\n",
    "- Load dataset from database with [`read_sql_table`](https://pandas.pydata.org/pandas-docs/stable/generated/pandas.read_sql_table.html)\n",
    "- Define feature and target variables X and Y"
   ]
  },
  {
   "cell_type": "code",
   "execution_count": 1,
   "metadata": {},
   "outputs": [
    {
     "name": "stdout",
     "output_type": "stream",
     "text": [
      "[nltk_data] Downloading package punkt to /root/nltk_data...\n",
      "[nltk_data]   Package punkt is already up-to-date!\n",
      "[nltk_data] Downloading package wordnet to /root/nltk_data...\n",
      "[nltk_data]   Package wordnet is already up-to-date!\n",
      "[nltk_data] Downloading package averaged_perceptron_tagger to\n",
      "[nltk_data]     /root/nltk_data...\n",
      "[nltk_data]   Package averaged_perceptron_tagger is already up-to-\n",
      "[nltk_data]       date!\n"
     ]
    },
    {
     "data": {
      "text/plain": [
       "True"
      ]
     },
     "execution_count": 1,
     "metadata": {},
     "output_type": "execute_result"
    }
   ],
   "source": [
    "# import libraries\n",
    "import pandas as pd\n",
    "import numpy as np\n",
    "import pickle\n",
    "from sqlalchemy import create_engine\n",
    "import re\n",
    "import nltk\n",
    "from sklearn.metrics import confusion_matrix\n",
    "from nltk.tokenize import word_tokenize\n",
    "from nltk.stem import WordNetLemmatizer\n",
    "from sklearn.base import BaseEstimator, TransformerMixin\n",
    "from sklearn.model_selection import train_test_split\n",
    "from sklearn.multioutput import MultiOutputClassifier\n",
    "from sklearn.ensemble import RandomForestClassifier, GradientBoostingClassifier,AdaBoostClassifier\n",
    "from sklearn.feature_extraction.text import CountVectorizer, TfidfTransformer\n",
    "from scipy.stats import hmean\n",
    "from scipy.stats.mstats import gmean\n",
    "from sklearn.pipeline import Pipeline, FeatureUnion\n",
    "from sklearn.model_selection import GridSearchCV\n",
    "from sklearn.metrics import make_scorer, accuracy_score, f1_score, fbeta_score, classification_report\n",
    "from scipy.stats import hmean\n",
    "from scipy.stats.mstats import gmean\n",
    "\n",
    "nltk.download(['punkt', 'wordnet', 'averaged_perceptron_tagger'])"
   ]
  },
  {
   "cell_type": "code",
   "execution_count": 2,
   "metadata": {},
   "outputs": [
    {
     "name": "stdout",
     "output_type": "stream",
     "text": [
      "0        Weather update - a cold front from Cuba that c...\n",
      "1                  Is the Hurricane over or is it not over\n",
      "2                          Looking for someone but no name\n",
      "3        UN reports Leogane 80-90 destroyed. Only Hospi...\n",
      "4        says: west side of Haiti, rest of the country ...\n",
      "5                   Information about the National Palace-\n",
      "6                           Storm at sacred heart of jesus\n",
      "7        Please, we need tents and water. We are in Sil...\n",
      "8          I would like to receive the messages, thank you\n",
      "9        I am in Croix-des-Bouquets. We have health iss...\n",
      "10       There's nothing to eat and water, we starving ...\n",
      "11       I am in Petionville. I need more information r...\n",
      "12       I am in Thomassin number 32, in the area named...\n",
      "13       Let's do it together, need food in Delma 75, i...\n",
      "14       More information on the 4636 number in order f...\n",
      "15       A Comitee in Delmas 19, Rue ( street ) Janvier...\n",
      "16       We need food and water in Klecin 12. We are dy...\n",
      "17       are you going to call me or do you want me to ...\n",
      "18          I don't understand how to use this thing 4636.\n",
      "19       I would like to know if the earthquake is over...\n",
      "20       I would like to know if one of the radio ginen...\n",
      "21                          I'm in Laplaine, I am a victim\n",
      "22       There's a lack of water in Moleya, please info...\n",
      "23       Those people who live at Sibert need food they...\n",
      "24       I want to say hello, my message is to let you ...\n",
      "25                      Can you tell me about this service\n",
      "26       People I'm at Delma 2, we don't anything what ...\n",
      "27       We are at Gressier we needs assistance right a...\n",
      "28       How can we get water and food in Fontamara 43 ...\n",
      "29       We need help. Carrefour has been forgotten com...\n",
      "                               ...                        \n",
      "26083    The ability to pick dengue from influenza is c...\n",
      "26084    A Federation chartered ship arrived from Lae w...\n",
      "26085    The result is that in Aceh province many prefa...\n",
      "26086    Otherwise, the risk is families fleeing again ...\n",
      "26087    A United Nations team from the Electoral Assis...\n",
      "26088    Senegal and Guinea-Bissau have agreed to condu...\n",
      "26089    The President said that her Government always ...\n",
      "26090    It was decided that all vehicle movement from ...\n",
      "26091    The tendency to link deforestation with large ...\n",
      "26092    Polio is a viral disease that attacks the nerv...\n",
      "26093    The new constitution declares that 'Somalia is...\n",
      "26094    We're providing clean water to people who woul...\n",
      "26095    Relief items include towels, sanitary napkins,...\n",
      "26096    In Aceh's Meulaboh town the UN refugee agency ...\n",
      "26097    WHO is recruiting a sanitary engineer / consul...\n",
      "26098    Following the severe floods which occurred ove...\n",
      "26099    The closure has stopped 169 inbound flights an...\n",
      "26100    BANGKOK, 24 January 2012 (NNT) - Prime Ministe...\n",
      "26101    Cadmium, a metallic element widely used in bat...\n",
      "26102    Epidemic surveillance: National Institute of C...\n",
      "26103    2.1 Due to sporadic skirmishes in eastern D.R....\n",
      "26104    No other army had gone to greater lengths to a...\n",
      "26105    The delivery was made in conjunction with the ...\n",
      "26106    However while ECOWAS wanted him to lead a 12-m...\n",
      "26107    Hpakant, an area rich with coveted jade stones...\n",
      "26108    The training demonstrated how to enhance micro...\n",
      "26109    A suitable candidate has been selected and OCH...\n",
      "26110    Proshika, operating in Cox's Bazar municipalit...\n",
      "26111    Some 2,000 women protesting against the conduc...\n",
      "26112    A radical shift in thinking came about as a re...\n",
      "Name: message, Length: 26113, dtype: object        related  request  offer  aid_related  medical_help  medical_products  \\\n",
      "0            1        0      0            0             0                 0   \n",
      "1            1        0      0            1             0                 0   \n",
      "2            1        0      0            0             0                 0   \n",
      "3            1        1      0            1             0                 1   \n",
      "4            1        0      0            0             0                 0   \n",
      "5            0        0      0            0             0                 0   \n",
      "6            1        0      0            0             0                 0   \n",
      "7            1        1      0            1             0                 0   \n",
      "8            0        0      0            0             0                 0   \n",
      "9            1        1      0            1             1                 1   \n",
      "10           1        1      0            1             1                 1   \n",
      "11           0        0      0            0             0                 0   \n",
      "12           1        1      0            1             0                 0   \n",
      "13           1        1      0            1             0                 0   \n",
      "14           1        0      0            0             0                 0   \n",
      "15           1        1      0            1             0                 1   \n",
      "16           1        1      0            1             1                 0   \n",
      "17           0        0      0            0             0                 0   \n",
      "18           0        0      0            0             0                 0   \n",
      "19           1        0      0            0             0                 0   \n",
      "20           1        0      0            0             0                 0   \n",
      "21           1        1      0            1             0                 0   \n",
      "22           1        1      0            1             0                 0   \n",
      "23           1        1      0            1             0                 0   \n",
      "24           1        0      0            0             0                 0   \n",
      "25           0        0      0            0             0                 0   \n",
      "26           1        1      0            1             1                 1   \n",
      "27           1        1      0            1             1                 0   \n",
      "28           1        1      0            1             0                 0   \n",
      "29           1        1      0            1             0                 0   \n",
      "...        ...      ...    ...          ...           ...               ...   \n",
      "26083        1        0      0            1             1                 0   \n",
      "26084        1        0      0            1             0                 1   \n",
      "26085        1        0      0            1             0                 0   \n",
      "26086        0        0      0            0             0                 0   \n",
      "26087        0        0      0            0             0                 0   \n",
      "26088        1        0      0            1             0                 0   \n",
      "26089        1        0      0            0             0                 0   \n",
      "26090        1        0      0            1             0                 0   \n",
      "26091        1        0      0            0             0                 0   \n",
      "26092        0        0      0            0             0                 0   \n",
      "26093        1        0      0            0             0                 0   \n",
      "26094        1        0      0            1             0                 0   \n",
      "26095        1        0      0            1             0                 1   \n",
      "26096        1        0      0            1             0                 0   \n",
      "26097        0        0      0            0             0                 0   \n",
      "26098        1        0      0            0             0                 0   \n",
      "26099        1        0      0            0             0                 0   \n",
      "26100        1        0      0            1             0                 0   \n",
      "26101        0        0      0            0             0                 0   \n",
      "26102        1        0      0            1             1                 1   \n",
      "26103        1        0      0            1             0                 0   \n",
      "26104        1        1      0            0             0                 0   \n",
      "26105        1        0      0            0             0                 0   \n",
      "26106        0        0      0            0             0                 0   \n",
      "26107        1        0      0            0             0                 0   \n",
      "26108        0        0      0            0             0                 0   \n",
      "26109        0        0      0            0             0                 0   \n",
      "26110        1        0      0            0             0                 0   \n",
      "26111        1        0      0            1             0                 0   \n",
      "26112        1        0      0            0             0                 0   \n",
      "\n",
      "       search_and_rescue  security  military  child_alone      ...        \\\n",
      "0                      0         0         0            0      ...         \n",
      "1                      0         0         0            0      ...         \n",
      "2                      0         0         0            0      ...         \n",
      "3                      0         0         0            0      ...         \n",
      "4                      0         0         0            0      ...         \n",
      "5                      0         0         0            0      ...         \n",
      "6                      0         0         0            0      ...         \n",
      "7                      0         0         0            0      ...         \n",
      "8                      0         0         0            0      ...         \n",
      "9                      0         0         0            0      ...         \n",
      "10                     0         0         0            0      ...         \n",
      "11                     0         0         0            0      ...         \n",
      "12                     0         0         0            0      ...         \n",
      "13                     0         0         0            0      ...         \n",
      "14                     0         0         0            0      ...         \n",
      "15                     0         0         0            0      ...         \n",
      "16                     0         0         0            0      ...         \n",
      "17                     0         0         0            0      ...         \n",
      "18                     0         0         0            0      ...         \n",
      "19                     0         0         0            0      ...         \n",
      "20                     0         0         0            0      ...         \n",
      "21                     0         0         0            0      ...         \n",
      "22                     0         0         0            0      ...         \n",
      "23                     0         0         0            0      ...         \n",
      "24                     0         0         0            0      ...         \n",
      "25                     0         0         0            0      ...         \n",
      "26                     0         0         0            0      ...         \n",
      "27                     0         0         0            0      ...         \n",
      "28                     0         0         0            0      ...         \n",
      "29                     0         0         0            0      ...         \n",
      "...                  ...       ...       ...          ...      ...         \n",
      "26083                  0         0         0            0      ...         \n",
      "26084                  0         0         0            0      ...         \n",
      "26085                  0         0         0            0      ...         \n",
      "26086                  0         0         0            0      ...         \n",
      "26087                  0         0         0            0      ...         \n",
      "26088                  0         0         1            0      ...         \n",
      "26089                  0         0         0            0      ...         \n",
      "26090                  0         0         1            0      ...         \n",
      "26091                  0         0         0            0      ...         \n",
      "26092                  0         0         0            0      ...         \n",
      "26093                  0         0         0            0      ...         \n",
      "26094                  1         0         0            0      ...         \n",
      "26095                  0         0         0            0      ...         \n",
      "26096                  0         0         0            0      ...         \n",
      "26097                  0         0         0            0      ...         \n",
      "26098                  0         0         0            0      ...         \n",
      "26099                  0         0         0            0      ...         \n",
      "26100                  0         0         0            0      ...         \n",
      "26101                  0         0         0            0      ...         \n",
      "26102                  0         0         0            0      ...         \n",
      "26103                  0         0         0            0      ...         \n",
      "26104                  0         0         0            0      ...         \n",
      "26105                  0         0         0            0      ...         \n",
      "26106                  0         0         0            0      ...         \n",
      "26107                  0         0         0            0      ...         \n",
      "26108                  0         0         0            0      ...         \n",
      "26109                  0         0         0            0      ...         \n",
      "26110                  0         0         0            0      ...         \n",
      "26111                  0         0         1            0      ...         \n",
      "26112                  0         0         0            0      ...         \n",
      "\n",
      "       aid_centers  other_infrastructure  weather_related  floods  storm  \\\n",
      "0                0                     0                0       0      0   \n",
      "1                0                     0                1       0      1   \n",
      "2                0                     0                0       0      0   \n",
      "3                0                     0                0       0      0   \n",
      "4                0                     0                0       0      0   \n",
      "5                0                     0                0       0      0   \n",
      "6                0                     0                1       0      1   \n",
      "7                0                     0                0       0      0   \n",
      "8                0                     0                0       0      0   \n",
      "9                0                     0                0       0      0   \n",
      "10               0                     1                1       1      0   \n",
      "11               0                     0                0       0      0   \n",
      "12               0                     0                0       0      0   \n",
      "13               0                     0                0       0      0   \n",
      "14               0                     0                0       0      0   \n",
      "15               0                     0                0       0      0   \n",
      "16               0                     0                0       0      0   \n",
      "17               0                     0                0       0      0   \n",
      "18               0                     0                0       0      0   \n",
      "19               0                     0                1       0      0   \n",
      "20               0                     0                0       0      0   \n",
      "21               0                     0                0       0      0   \n",
      "22               0                     0                0       0      0   \n",
      "23               0                     0                0       0      0   \n",
      "24               0                     0                0       0      0   \n",
      "25               0                     0                0       0      0   \n",
      "26               0                     0                0       0      0   \n",
      "27               0                     0                1       1      0   \n",
      "28               0                     0                0       0      0   \n",
      "29               0                     0                0       0      0   \n",
      "...            ...                   ...              ...     ...    ...   \n",
      "26083            0                     0                0       0      0   \n",
      "26084            0                     0                0       0      0   \n",
      "26085            0                     0                0       0      0   \n",
      "26086            0                     0                0       0      0   \n",
      "26087            0                     0                0       0      0   \n",
      "26088            0                     0                0       0      0   \n",
      "26089            0                     0                0       0      0   \n",
      "26090            0                     0                0       0      0   \n",
      "26091            0                     0                1       1      0   \n",
      "26092            0                     0                0       0      0   \n",
      "26093            0                     0                0       0      0   \n",
      "26094            0                     0                0       0      0   \n",
      "26095            0                     0                0       0      0   \n",
      "26096            0                     0                0       0      0   \n",
      "26097            0                     0                0       0      0   \n",
      "26098            0                     0                1       1      0   \n",
      "26099            0                     0                0       0      0   \n",
      "26100            0                     0                1       1      0   \n",
      "26101            0                     0                0       0      0   \n",
      "26102            0                     0                0       0      0   \n",
      "26103            0                     0                0       0      0   \n",
      "26104            0                     0                0       0      0   \n",
      "26105            0                     0                0       0      0   \n",
      "26106            0                     0                0       0      0   \n",
      "26107            0                     0                0       0      0   \n",
      "26108            0                     0                0       0      0   \n",
      "26109            0                     0                0       0      0   \n",
      "26110            0                     0                0       0      0   \n",
      "26111            0                     0                0       0      0   \n",
      "26112            0                     0                0       0      0   \n",
      "\n",
      "       fire  earthquake  cold  other_weather  direct_report  \n",
      "0         0           0     0              0              0  \n",
      "1         0           0     0              0              0  \n",
      "2         0           0     0              0              0  \n",
      "3         0           0     0              0              0  \n",
      "4         0           0     0              0              0  \n",
      "5         0           0     0              0              0  \n",
      "6         0           0     0              0              0  \n",
      "7         0           0     0              0              1  \n",
      "8         0           0     0              0              0  \n",
      "9         0           0     0              0              1  \n",
      "10        0           0     0              0              1  \n",
      "11        0           0     0              0              0  \n",
      "12        0           0     0              0              1  \n",
      "13        0           0     0              0              1  \n",
      "14        0           0     0              0              0  \n",
      "15        0           0     0              0              1  \n",
      "16        0           0     0              0              1  \n",
      "17        0           0     0              0              0  \n",
      "18        0           0     0              0              0  \n",
      "19        0           1     0              0              0  \n",
      "20        0           0     0              0              0  \n",
      "21        0           0     0              0              1  \n",
      "22        0           0     0              0              1  \n",
      "23        0           0     0              0              0  \n",
      "24        0           0     0              0              0  \n",
      "25        0           0     0              0              0  \n",
      "26        0           0     0              0              1  \n",
      "27        0           0     0              0              1  \n",
      "28        0           0     0              0              1  \n",
      "29        0           0     0              0              1  \n",
      "...     ...         ...   ...            ...            ...  \n",
      "26083     0           0     0              0              0  \n",
      "26084     0           0     0              0              0  \n",
      "26085     0           0     0              0              0  \n",
      "26086     0           0     0              0              0  \n",
      "26087     0           0     0              0              0  \n",
      "26088     0           0     0              0              0  \n",
      "26089     0           0     0              0              0  \n",
      "26090     0           0     0              0              0  \n",
      "26091     1           0     0              1              0  \n",
      "26092     0           0     0              0              0  \n",
      "26093     0           0     0              0              0  \n",
      "26094     0           0     0              0              1  \n",
      "26095     0           0     0              0              1  \n",
      "26096     0           0     0              0              0  \n",
      "26097     0           0     0              0              0  \n",
      "26098     0           0     0              0              0  \n",
      "26099     0           0     0              0              0  \n",
      "26100     0           0     0              0              0  \n",
      "26101     0           0     0              0              0  \n",
      "26102     0           0     0              0              0  \n",
      "26103     0           0     0              0              0  \n",
      "26104     0           0     0              0              1  \n",
      "26105     0           0     0              0              0  \n",
      "26106     0           0     0              0              0  \n",
      "26107     0           0     0              0              0  \n",
      "26108     0           0     0              0              0  \n",
      "26109     0           0     0              0              0  \n",
      "26110     0           0     0              0              0  \n",
      "26111     0           0     0              0              0  \n",
      "26112     0           0     0              0              0  \n",
      "\n",
      "[26113 rows x 36 columns]\n"
     ]
    }
   ],
   "source": [
    "# load data from database\n",
    "engine = create_engine('sqlite:///mydf.db')\n",
    "df = pd.read_sql_table('mydf',engine)\n",
    "X = df['message']\n",
    "y = df.iloc[:,4:]\n",
    "print(X,y)"
   ]
  },
  {
   "cell_type": "markdown",
   "metadata": {},
   "source": [
    "### 2. Write a tokenization function to process your text data"
   ]
  },
  {
   "cell_type": "code",
   "execution_count": 3,
   "metadata": {},
   "outputs": [],
   "source": [
    "def tokenize(text):\n",
    "    url_regex = 'http[s]?://(?:[a-zA-Z]|[0-9]|[$-_@.&+]|[!*\\(\\),]|(?:%[0-9a-fA-F][0-9a-fA-F]))+'\n",
    "    detected_urls = re.findall(url_regex, text)\n",
    "    for url in detected_urls:\n",
    "        text = text.replace(url, \"urlplaceholder\")\n",
    "\n",
    "    tokens = word_tokenize(text)\n",
    "    lemmatizer = WordNetLemmatizer()\n",
    "\n",
    "    clean_tokens = []\n",
    "    for tok in tokens:\n",
    "        clean_tok = lemmatizer.lemmatize(tok).lower().strip()\n",
    "        clean_tokens.append(clean_tok)\n",
    "\n",
    "    return clean_tokens"
   ]
  },
  {
   "cell_type": "markdown",
   "metadata": {},
   "source": [
    "### 3. Build a machine learning pipeline\n",
    "This machine pipeline should take in the `message` column as input and output classification results on the other 36 categories in the dataset. You may find the [MultiOutputClassifier](http://scikit-learn.org/stable/modules/generated/sklearn.multioutput.MultiOutputClassifier.html) helpful for predicting multiple target variables."
   ]
  },
  {
   "cell_type": "code",
   "execution_count": 4,
   "metadata": {},
   "outputs": [],
   "source": [
    "def my_pipe():\n",
    "    pipeline = Pipeline([\n",
    "        ('vect', CountVectorizer(tokenizer=tokenize)),\n",
    "        ('tfidf', TfidfTransformer()),\n",
    "        ('clf', MultiOutputClassifier(RandomForestClassifier()))\n",
    "    ])\n",
    "    \n",
    "    return pipeline"
   ]
  },
  {
   "cell_type": "markdown",
   "metadata": {},
   "source": [
    "### 4. Train pipeline\n",
    "- Split data into train and test sets\n",
    "- Train pipeline"
   ]
  },
  {
   "cell_type": "code",
   "execution_count": 5,
   "metadata": {},
   "outputs": [
    {
     "name": "stdout",
     "output_type": "stream",
     "text": [
      "CPU times: user 1min 18s, sys: 285 ms, total: 1min 18s\n",
      "Wall time: 1min 18s\n"
     ]
    }
   ],
   "source": [
    "%%time\n",
    "X_train, X_test, y_train, y_test = train_test_split(X, y)\n",
    "\n",
    "model = []\n",
    "model = my_pipe()\n",
    "predict_pipe=model.fit(X_train, y_train)"
   ]
  },
  {
   "cell_type": "markdown",
   "metadata": {},
   "source": [
    "### 5. Test your model\n",
    "Report the f1 score, precision and recall for each output category of the dataset. You can do this by iterating through the columns and calling sklearn's `classification_report` on each."
   ]
  },
  {
   "cell_type": "code",
   "execution_count": 6,
   "metadata": {},
   "outputs": [
    {
     "name": "stdout",
     "output_type": "stream",
     "text": [
      "                        precision    recall  f1-score   support\n",
      "\n",
      "               related       0.81      0.38      0.52      1038\n",
      "               request       0.00      0.00      0.00        27\n",
      "                 offer       0.75      0.50      0.60      2648\n",
      "           aid_related       0.53      0.08      0.14       504\n",
      "          medical_help       0.73      0.07      0.13       317\n",
      "      medical_products       1.00      0.03      0.06       167\n",
      "     search_and_rescue       0.00      0.00      0.00       116\n",
      "              security       0.65      0.09      0.16       225\n",
      "              military       0.00      0.00      0.00         0\n",
      "           child_alone       0.83      0.21      0.34       398\n",
      "                 water       0.88      0.28      0.43       710\n",
      "                  food       0.82      0.20      0.32       561\n",
      "               shelter       0.80      0.04      0.08        99\n",
      "              clothing       0.50      0.01      0.01       144\n",
      "                 money       0.00      0.00      0.00        68\n",
      "        missing_people       0.57      0.04      0.08       194\n",
      "              refugees       0.70      0.09      0.16       289\n",
      "                 death       0.53      0.03      0.05       836\n",
      "             other_aid       0.40      0.00      0.01       417\n",
      "infrastructure_related       0.71      0.09      0.16       302\n",
      "             transport       0.70      0.10      0.17       334\n",
      "             buildings       0.57      0.03      0.05       141\n",
      "           electricity       0.00      0.00      0.00        51\n",
      "                 tools       1.00      0.02      0.03        63\n",
      "             hospitals       0.00      0.00      0.00        25\n",
      "                 shops       0.00      0.00      0.00        80\n",
      "           aid_centers       0.00      0.00      0.00       285\n",
      "  other_infrastructure       0.83      0.53      0.64      1792\n",
      "       weather_related       0.92      0.23      0.37       511\n",
      "                floods       0.76      0.32      0.45       608\n",
      "                 storm       0.00      0.00      0.00        66\n",
      "                  fire       0.91      0.55      0.69       617\n",
      "            earthquake       0.72      0.11      0.19       118\n",
      "                  cold       0.75      0.02      0.03       342\n",
      "         other_weather       0.75      0.31      0.44      1196\n",
      "\n",
      "           avg / total       0.72      0.28      0.38     15289\n",
      "\n",
      "CPU times: user 5.18 s, sys: 0 ns, total: 5.18 s\n",
      "Wall time: 5.2 s\n"
     ]
    },
    {
     "name": "stderr",
     "output_type": "stream",
     "text": [
      "/opt/conda/lib/python3.6/site-packages/sklearn/metrics/classification.py:1428: UserWarning: labels size, 35, does not match size of target_names, 36\n",
      "  .format(len(labels), len(target_names))\n",
      "/opt/conda/lib/python3.6/site-packages/sklearn/metrics/classification.py:1135: UndefinedMetricWarning: Precision and F-score are ill-defined and being set to 0.0 in labels with no predicted samples.\n",
      "  'precision', 'predicted', average, warn_for)\n",
      "/opt/conda/lib/python3.6/site-packages/sklearn/metrics/classification.py:1137: UndefinedMetricWarning: Recall and F-score are ill-defined and being set to 0.0 in labels with no true samples.\n",
      "  'recall', 'true', average, warn_for)\n"
     ]
    }
   ],
   "source": [
    "%%time\n",
    "predict_y_test = predict_pipe.predict(X_test)\n",
    "\n",
    "#Using Classification_report to find precision, recasll, f1-score and support\n",
    "print(classification_report(y_test.iloc[:, 1:].values, np.array([x[1:] for x in predict_y_test]), target_names = df.columns[4:]))"
   ]
  },
  {
   "cell_type": "markdown",
   "metadata": {},
   "source": [
    "### 6. Improve your model\n",
    "Use grid search to find better parameters. "
   ]
  },
  {
   "cell_type": "code",
   "execution_count": 7,
   "metadata": {},
   "outputs": [
    {
     "data": {
      "text/plain": [
       "dict_keys(['memory', 'steps', 'vect', 'tfidf', 'clf', 'vect__analyzer', 'vect__binary', 'vect__decode_error', 'vect__dtype', 'vect__encoding', 'vect__input', 'vect__lowercase', 'vect__max_df', 'vect__max_features', 'vect__min_df', 'vect__ngram_range', 'vect__preprocessor', 'vect__stop_words', 'vect__strip_accents', 'vect__token_pattern', 'vect__tokenizer', 'vect__vocabulary', 'tfidf__norm', 'tfidf__smooth_idf', 'tfidf__sublinear_tf', 'tfidf__use_idf', 'clf__estimator__bootstrap', 'clf__estimator__class_weight', 'clf__estimator__criterion', 'clf__estimator__max_depth', 'clf__estimator__max_features', 'clf__estimator__max_leaf_nodes', 'clf__estimator__min_impurity_decrease', 'clf__estimator__min_impurity_split', 'clf__estimator__min_samples_leaf', 'clf__estimator__min_samples_split', 'clf__estimator__min_weight_fraction_leaf', 'clf__estimator__n_estimators', 'clf__estimator__n_jobs', 'clf__estimator__oob_score', 'clf__estimator__random_state', 'clf__estimator__verbose', 'clf__estimator__warm_start', 'clf__estimator', 'clf__n_jobs'])"
      ]
     },
     "execution_count": 7,
     "metadata": {},
     "output_type": "execute_result"
    }
   ],
   "source": [
    "model.get_params().keys()"
   ]
  },
  {
   "cell_type": "code",
   "execution_count": 8,
   "metadata": {},
   "outputs": [
    {
     "name": "stdout",
     "output_type": "stream",
     "text": [
      "CPU times: user 167 µs, sys: 0 ns, total: 167 µs\n",
      "Wall time: 173 µs\n"
     ]
    }
   ],
   "source": [
    "%%time\n",
    "parameters = {\n",
    "    'vect__ngram_range': ((1, 2), (2, 2)),\n",
    "    'vect__max_df': (0.75, 1.0),\n",
    "    'clf__estimator__n_estimators':[10, 15]\n",
    "}\n",
    "\n",
    "cv = GridSearchCV(model, param_grid = parameters)"
   ]
  },
  {
   "cell_type": "markdown",
   "metadata": {},
   "source": [
    "### 7. Test your model\n",
    "Show the accuracy, precision, and recall of the tuned model.  \n",
    "\n",
    "Since this project focuses on code quality, process, and  pipelines, there is no minimum performance metric needed to pass. However, make sure to fine tune your models for accuracy, precision and recall to make your project stand out - especially for your portfolio!"
   ]
  },
  {
   "cell_type": "code",
   "execution_count": 9,
   "metadata": {},
   "outputs": [
    {
     "name": "stdout",
     "output_type": "stream",
     "text": [
      "Best Parameters: {'clf__estimator__n_estimators': 10, 'vect__max_df': 1.0, 'vect__ngram_range': (1, 2)}\n",
      "CPU times: user 51min 55s, sys: 1.5 s, total: 51min 56s\n",
      "Wall time: 52min 19s\n"
     ]
    }
   ],
   "source": [
    "#Warning: This took 52 Minutes!!\n",
    "# Best Parameters: {'clf__estimator__n_estimators': 10, 'vect__max_df': 1.0, 'vect__ngram_range': (1, 2)}\n",
    "%%time\n",
    "cv.fit(X_train, y_train)\n",
    "print('Best Parameters:', cv.best_params_)"
   ]
  },
  {
   "cell_type": "code",
   "execution_count": 12,
   "metadata": {},
   "outputs": [
    {
     "name": "stdout",
     "output_type": "stream",
     "text": [
      "                        precision    recall  f1-score   support\n",
      "\n",
      "               related       0.83      0.42      0.56      1038\n",
      "               request       0.00      0.00      0.00        27\n",
      "                 offer       0.75      0.47      0.57      2648\n",
      "           aid_related       0.57      0.06      0.11       504\n",
      "          medical_help       0.66      0.09      0.15       317\n",
      "      medical_products       0.88      0.04      0.08       167\n",
      "     search_and_rescue       0.00      0.00      0.00       116\n",
      "              security       0.64      0.09      0.16       225\n",
      "              military       0.00      0.00      0.00         0\n",
      "           child_alone       0.84      0.29      0.44       398\n",
      "                 water       0.84      0.47      0.60       710\n",
      "                  food       0.78      0.26      0.39       561\n",
      "               shelter       1.00      0.04      0.08        99\n",
      "              clothing       0.67      0.01      0.03       144\n",
      "                 money       1.00      0.01      0.03        68\n",
      "        missing_people       0.38      0.03      0.05       194\n",
      "              refugees       0.86      0.21      0.33       289\n",
      "                 death       0.50      0.03      0.05       836\n",
      "             other_aid       0.25      0.00      0.01       417\n",
      "infrastructure_related       0.70      0.08      0.14       302\n",
      "             transport       0.68      0.08      0.14       334\n",
      "             buildings       0.50      0.01      0.03       141\n",
      "           electricity       0.00      0.00      0.00        51\n",
      "                 tools       1.00      0.02      0.03        63\n",
      "             hospitals       0.00      0.00      0.00        25\n",
      "                 shops       0.00      0.00      0.00        80\n",
      "           aid_centers       0.00      0.00      0.00       285\n",
      "  other_infrastructure       0.86      0.49      0.62      1792\n",
      "       weather_related       0.90      0.25      0.39       511\n",
      "                floods       0.77      0.40      0.52       608\n",
      "                 storm       0.00      0.00      0.00        66\n",
      "                  fire       0.90      0.53      0.67       617\n",
      "            earthquake       0.76      0.11      0.19       118\n",
      "                  cold       0.58      0.05      0.10       342\n",
      "         other_weather       0.79      0.33      0.46      1196\n",
      "\n",
      "           avg / total       0.72      0.29      0.39     15289\n",
      "\n"
     ]
    },
    {
     "name": "stderr",
     "output_type": "stream",
     "text": [
      "/opt/conda/lib/python3.6/site-packages/sklearn/metrics/classification.py:1428: UserWarning: labels size, 35, does not match size of target_names, 36\n",
      "  .format(len(labels), len(target_names))\n",
      "/opt/conda/lib/python3.6/site-packages/sklearn/metrics/classification.py:1135: UndefinedMetricWarning: Precision and F-score are ill-defined and being set to 0.0 in labels with no predicted samples.\n",
      "  'precision', 'predicted', average, warn_for)\n",
      "/opt/conda/lib/python3.6/site-packages/sklearn/metrics/classification.py:1137: UndefinedMetricWarning: Recall and F-score are ill-defined and being set to 0.0 in labels with no true samples.\n",
      "  'recall', 'true', average, warn_for)\n"
     ]
    }
   ],
   "source": [
    "y_test_pred = cv.predict(X_test)\n",
    "    \n",
    "print(classification_report(y_test.iloc[:, 1:].values, np.array([x[1:] for x in y_test_pred]), target_names = df.columns[4:]))"
   ]
  },
  {
   "cell_type": "markdown",
   "metadata": {},
   "source": [
    "### 8. Try improving your model further. Here are a few ideas:\n",
    "* try other machine learning algorithms\n",
    "* add other features besides the TF-IDF"
   ]
  },
  {
   "cell_type": "code",
   "execution_count": 19,
   "metadata": {},
   "outputs": [],
   "source": [
    "#Adding new Feature!\n",
    "\n",
    "#Class StartVerbExtractor added to use it as a feature in \"my_new_pipe\"\n",
    "class StartVerbExtractor(BaseEstimator, TransformerMixin):\n",
    "\n",
    "    def starting_verb(self, text):\n",
    "        sentence_list = nltk.sent_tokenize(text)\n",
    "        for sentence in sentence_list:\n",
    "            pos_tags = nltk.pos_tag(tokenize(sentence))\n",
    "            first_word, first_tag = pos_tags[0]\n",
    "            if first_tag in ['VB', 'VBP'] or first_word == 'RT':\n",
    "                return True\n",
    "        return False\n",
    "\n",
    "    def fit(self, X, y=None):\n",
    "        return self\n",
    "\n",
    "    def transform(self, X):\n",
    "        X_tagged = pd.Series(X).apply(self.starting_verb)\n",
    "        return pd.DataFrame(X_tagged)\n",
    "\n",
    "def my_new_pipe():\n",
    "    pipeline = Pipeline([\n",
    "        ('features', FeatureUnion([\n",
    "\n",
    "            ('text_pipeline', Pipeline([\n",
    "                ('vect', CountVectorizer(tokenizer=tokenize)),\n",
    "                ('tfidf', TfidfTransformer())\n",
    "            ])),\n",
    "\n",
    "            ('first_verb', StartVerbExtractor())\n",
    "        ])),\n",
    "\n",
    "        ('clf', MultiOutputClassifier(RandomForestClassifier()))\n",
    "    ])\n",
    "\n",
    "    return pipeline"
   ]
  },
  {
   "cell_type": "code",
   "execution_count": 20,
   "metadata": {},
   "outputs": [
    {
     "name": "stdout",
     "output_type": "stream",
     "text": [
      "CPU times: user 2min, sys: 687 ms, total: 2min\n",
      "Wall time: 2min 1s\n"
     ]
    }
   ],
   "source": [
    "%%time\n",
    "model = []\n",
    "model_new = my_new_pipe()\n",
    "improved_pipe=model_new.fit(X_train, y_train)"
   ]
  },
  {
   "cell_type": "code",
   "execution_count": 21,
   "metadata": {},
   "outputs": [
    {
     "name": "stdout",
     "output_type": "stream",
     "text": [
      "                        precision    recall  f1-score   support\n",
      "\n",
      "               related       0.80      0.35      0.49      1038\n",
      "               request       0.00      0.00      0.00        27\n",
      "                 offer       0.75      0.52      0.62      2648\n",
      "           aid_related       0.57      0.09      0.15       504\n",
      "          medical_help       0.62      0.07      0.13       317\n",
      "      medical_products       1.00      0.04      0.07       167\n",
      "     search_and_rescue       0.00      0.00      0.00       116\n",
      "              security       0.50      0.04      0.07       225\n",
      "              military       0.00      0.00      0.00         0\n",
      "           child_alone       0.85      0.20      0.32       398\n",
      "                 water       0.87      0.30      0.45       710\n",
      "                  food       0.80      0.25      0.38       561\n",
      "               shelter       0.77      0.10      0.18        99\n",
      "              clothing       0.00      0.00      0.00       144\n",
      "                 money       0.00      0.00      0.00        68\n",
      "        missing_people       0.20      0.01      0.01       194\n",
      "              refugees       0.68      0.09      0.16       289\n",
      "                 death       0.47      0.03      0.06       836\n",
      "             other_aid       0.12      0.00      0.00       417\n",
      "infrastructure_related       0.70      0.13      0.22       302\n",
      "             transport       0.73      0.07      0.12       334\n",
      "             buildings       0.43      0.02      0.04       141\n",
      "           electricity       0.00      0.00      0.00        51\n",
      "                 tools       0.00      0.00      0.00        63\n",
      "             hospitals       0.00      0.00      0.00        25\n",
      "                 shops       0.00      0.00      0.00        80\n",
      "           aid_centers       0.12      0.00      0.01       285\n",
      "  other_infrastructure       0.84      0.56      0.67      1792\n",
      "       weather_related       0.92      0.20      0.33       511\n",
      "                floods       0.74      0.44      0.55       608\n",
      "                 storm       0.67      0.03      0.06        66\n",
      "                  fire       0.91      0.51      0.65       617\n",
      "            earthquake       1.00      0.08      0.14       118\n",
      "                  cold       0.44      0.02      0.04       342\n",
      "         other_weather       0.73      0.28      0.40      1196\n",
      "\n",
      "           avg / total       0.68      0.29      0.38     15289\n",
      "\n",
      "CPU times: user 19.7 s, sys: 112 ms, total: 19.8 s\n",
      "Wall time: 19.9 s\n"
     ]
    },
    {
     "name": "stderr",
     "output_type": "stream",
     "text": [
      "/opt/conda/lib/python3.6/site-packages/sklearn/metrics/classification.py:1428: UserWarning: labels size, 35, does not match size of target_names, 36\n",
      "  .format(len(labels), len(target_names))\n",
      "/opt/conda/lib/python3.6/site-packages/sklearn/metrics/classification.py:1135: UndefinedMetricWarning: Precision and F-score are ill-defined and being set to 0.0 in labels with no predicted samples.\n",
      "  'precision', 'predicted', average, warn_for)\n",
      "/opt/conda/lib/python3.6/site-packages/sklearn/metrics/classification.py:1137: UndefinedMetricWarning: Recall and F-score are ill-defined and being set to 0.0 in labels with no true samples.\n",
      "  'recall', 'true', average, warn_for)\n"
     ]
    }
   ],
   "source": [
    "%%time\n",
    "predict_y_test_new = improved_pipe.predict(X_test)\n",
    "\n",
    "#Using Classification_report to find precision, recasll, f1-score and support\n",
    "print(classification_report(y_test.iloc[:, 1:].values, np.array([x[1:] for x in predict_y_test_new]), target_names = df.columns[4:]))\n"
   ]
  },
  {
   "cell_type": "code",
   "execution_count": 27,
   "metadata": {},
   "outputs": [
    {
     "data": {
      "text/plain": [
       "dict_keys(['memory', 'steps', 'features', 'clf', 'features__n_jobs', 'features__transformer_list', 'features__transformer_weights', 'features__text_pipeline', 'features__first_verb', 'features__text_pipeline__memory', 'features__text_pipeline__steps', 'features__text_pipeline__vect', 'features__text_pipeline__tfidf', 'features__text_pipeline__vect__analyzer', 'features__text_pipeline__vect__binary', 'features__text_pipeline__vect__decode_error', 'features__text_pipeline__vect__dtype', 'features__text_pipeline__vect__encoding', 'features__text_pipeline__vect__input', 'features__text_pipeline__vect__lowercase', 'features__text_pipeline__vect__max_df', 'features__text_pipeline__vect__max_features', 'features__text_pipeline__vect__min_df', 'features__text_pipeline__vect__ngram_range', 'features__text_pipeline__vect__preprocessor', 'features__text_pipeline__vect__stop_words', 'features__text_pipeline__vect__strip_accents', 'features__text_pipeline__vect__token_pattern', 'features__text_pipeline__vect__tokenizer', 'features__text_pipeline__vect__vocabulary', 'features__text_pipeline__tfidf__norm', 'features__text_pipeline__tfidf__smooth_idf', 'features__text_pipeline__tfidf__sublinear_tf', 'features__text_pipeline__tfidf__use_idf', 'clf__estimator__bootstrap', 'clf__estimator__class_weight', 'clf__estimator__criterion', 'clf__estimator__max_depth', 'clf__estimator__max_features', 'clf__estimator__max_leaf_nodes', 'clf__estimator__min_impurity_decrease', 'clf__estimator__min_impurity_split', 'clf__estimator__min_samples_leaf', 'clf__estimator__min_samples_split', 'clf__estimator__min_weight_fraction_leaf', 'clf__estimator__n_estimators', 'clf__estimator__n_jobs', 'clf__estimator__oob_score', 'clf__estimator__random_state', 'clf__estimator__verbose', 'clf__estimator__warm_start', 'clf__estimator', 'clf__n_jobs'])"
      ]
     },
     "execution_count": 27,
     "metadata": {},
     "output_type": "execute_result"
    }
   ],
   "source": [
    "model_new.get_params().keys()"
   ]
  },
  {
   "cell_type": "code",
   "execution_count": null,
   "metadata": {},
   "outputs": [],
   "source": [
    "%%time\n",
    "parameters = {\n",
    "        'features__text_pipeline__vect__ngram_range': ((1, 1), (1, 2)),\n",
    "        'features__text_pipeline__vect__max_df': (0.75, 1.0),\n",
    "        'clf__estimator__n_estimators':[10, 15],\n",
    "        'features__text_pipeline__tfidf__use_idf': (True, False)\n",
    "    }\n",
    "\n",
    "pipeline_cv = GridSearchCV(model_new, param_grid = parameters)\n",
    "pipeline_cv.fit(X_train, y_train)\n",
    "print('Best Parameters:', pipeline_cv.best_params_)"
   ]
  },
  {
   "cell_type": "code",
   "execution_count": null,
   "metadata": {},
   "outputs": [],
   "source": [
    "Y_pred = pipeline_cv.predict(X_test)\n",
    "    \n",
    "print(classification_report(Y_test.iloc[:, 1:].values, np.array([x[1:] for x in Y_pred]), target_names = category_names))"
   ]
  },
  {
   "cell_type": "markdown",
   "metadata": {},
   "source": [
    "### 9. Export your model as a pickle file"
   ]
  },
  {
   "cell_type": "code",
   "execution_count": null,
   "metadata": {},
   "outputs": [],
   "source": [
    "filename = 'my_model.sav'\n",
    "pickle.dump(cv, open(filename, 'wb'))"
   ]
  },
  {
   "cell_type": "markdown",
   "metadata": {},
   "source": [
    "### 10. Use this notebook to complete `train.py`\n",
    "Use the template file attached in the Resources folder to write a script that runs the steps above to create a database and export a model based on a new dataset specified by the user."
   ]
  },
  {
   "cell_type": "code",
   "execution_count": null,
   "metadata": {},
   "outputs": [],
   "source": []
  }
 ],
 "metadata": {
  "kernelspec": {
   "display_name": "Python 3",
   "language": "python",
   "name": "python3"
  },
  "language_info": {
   "codemirror_mode": {
    "name": "ipython",
    "version": 3
   },
   "file_extension": ".py",
   "mimetype": "text/x-python",
   "name": "python",
   "nbconvert_exporter": "python",
   "pygments_lexer": "ipython3",
   "version": "3.6.3"
  }
 },
 "nbformat": 4,
 "nbformat_minor": 2
}
